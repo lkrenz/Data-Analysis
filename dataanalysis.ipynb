{
 "cells": [
  {
   "cell_type": "markdown",
   "metadata": {},
   "source": [
    "# Data Analysis"
   ]
  },
  {
   "cell_type": "markdown",
   "metadata": {},
   "source": [
    "### Import Libraries"
   ]
  },
  {
   "cell_type": "code",
   "execution_count": 3,
   "metadata": {},
   "outputs": [
    {
     "name": "stderr",
     "output_type": "stream",
     "text": [
      "/var/folders/k6/qgdgj9qj743ff3dn87fyv0yr0000gn/T/ipykernel_73294/1492400551.py:1: DeprecationWarning: \n",
      "Pyarrow will become a required dependency of pandas in the next major release of pandas (pandas 3.0),\n",
      "(to allow more performant data types, such as the Arrow string type, and better interoperability with other libraries)\n",
      "but was not found to be installed on your system.\n",
      "If this would cause problems for you,\n",
      "please provide us feedback at https://github.com/pandas-dev/pandas/issues/54466\n",
      "        \n",
      "  import pandas as pd\n"
     ]
    }
   ],
   "source": [
    "import pandas as pd\n",
    "import matplotlib.pyplot as plt"
   ]
  },
  {
   "cell_type": "markdown",
   "metadata": {},
   "source": [
    "### Load the Dataset"
   ]
  },
  {
   "cell_type": "code",
   "execution_count": 4,
   "metadata": {},
   "outputs": [],
   "source": [
    "df = pd.read_csv(\"data/team_stats_2003_2023.csv\")"
   ]
  },
  {
   "cell_type": "markdown",
   "metadata": {},
   "source": [
    "## Data Exploration"
   ]
  },
  {
   "cell_type": "markdown",
   "metadata": {},
   "source": [
    "1. Structure of the data set"
   ]
  },
  {
   "cell_type": "code",
   "execution_count": 21,
   "metadata": {},
   "outputs": [
    {
     "data": {
      "text/plain": [
       "(672, 33)"
      ]
     },
     "execution_count": 21,
     "metadata": {},
     "output_type": "execute_result"
    }
   ],
   "source": [
    "df.shape\n",
    "\n",
    "df.head(10)\n"
   ]
  },
  {
   "cell_type": "markdown",
   "metadata": {},
   "source": [
    "2. Check for Null Values"
   ]
  },
  {
   "cell_type": "code",
   "execution_count": 6,
   "metadata": {},
   "outputs": [
    {
     "data": {
      "text/plain": [
       "year                      0\n",
       "team                      0\n",
       "wins                      0\n",
       "losses                    0\n",
       "win_loss_perc             0\n",
       "points                    0\n",
       "points_opp                0\n",
       "points_diff               0\n",
       "mov                     320\n",
       "g                         0\n",
       "total_yards               0\n",
       "plays_offense             0\n",
       "yds_per_play_offense      0\n",
       "turnovers                 0\n",
       "fumbles_lost              0\n",
       "first_down                0\n",
       "pass_cmp                  0\n",
       "pass_att                  0\n",
       "pass_yds                  0\n",
       "pass_td                   0\n",
       "pass_int                  0\n",
       "pass_net_yds_per_att      0\n",
       "pass_fd                   0\n",
       "rush_att                  0\n",
       "rush_yds                  0\n",
       "rush_td                   0\n",
       "rush_yds_per_att          0\n",
       "rush_fd                   0\n",
       "penalties                 0\n",
       "penalties_yds             0\n",
       "pen_fd                    0\n",
       "score_pct                 0\n",
       "turnover_pct              0\n",
       "exp_pts_tot               0\n",
       "ties                    352\n",
       "dtype: int64"
      ]
     },
     "execution_count": 6,
     "metadata": {},
     "output_type": "execute_result"
    }
   ],
   "source": [
    "df.isna().sum()"
   ]
  },
  {
   "cell_type": "markdown",
   "metadata": {},
   "source": [
    "## Data Cleaning"
   ]
  },
  {
   "cell_type": "markdown",
   "metadata": {},
   "source": [
    "It seems like only have two columns with null values, mov, and ties. As I don't intend to use data from either of these columns, I will drop them."
   ]
  },
  {
   "cell_type": "code",
   "execution_count": 7,
   "metadata": {},
   "outputs": [
    {
     "name": "stdout",
     "output_type": "stream",
     "text": [
      "<class 'pandas.core.frame.DataFrame'>\n",
      "RangeIndex: 672 entries, 0 to 671\n",
      "Data columns (total 33 columns):\n",
      " #   Column                Non-Null Count  Dtype  \n",
      "---  ------                --------------  -----  \n",
      " 0   year                  672 non-null    int64  \n",
      " 1   team                  672 non-null    object \n",
      " 2   wins                  672 non-null    int64  \n",
      " 3   losses                672 non-null    int64  \n",
      " 4   win_loss_perc         672 non-null    float64\n",
      " 5   points                672 non-null    int64  \n",
      " 6   points_opp            672 non-null    int64  \n",
      " 7   points_diff           672 non-null    int64  \n",
      " 8   g                     672 non-null    int64  \n",
      " 9   total_yards           672 non-null    int64  \n",
      " 10  plays_offense         672 non-null    int64  \n",
      " 11  yds_per_play_offense  672 non-null    float64\n",
      " 12  turnovers             672 non-null    int64  \n",
      " 13  fumbles_lost          672 non-null    int64  \n",
      " 14  first_down            672 non-null    int64  \n",
      " 15  pass_cmp              672 non-null    int64  \n",
      " 16  pass_att              672 non-null    int64  \n",
      " 17  pass_yds              672 non-null    int64  \n",
      " 18  pass_td               672 non-null    int64  \n",
      " 19  pass_int              672 non-null    int64  \n",
      " 20  pass_net_yds_per_att  672 non-null    float64\n",
      " 21  pass_fd               672 non-null    int64  \n",
      " 22  rush_att              672 non-null    int64  \n",
      " 23  rush_yds              672 non-null    int64  \n",
      " 24  rush_td               672 non-null    int64  \n",
      " 25  rush_yds_per_att      672 non-null    float64\n",
      " 26  rush_fd               672 non-null    int64  \n",
      " 27  penalties             672 non-null    int64  \n",
      " 28  penalties_yds         672 non-null    int64  \n",
      " 29  pen_fd                672 non-null    int64  \n",
      " 30  score_pct             672 non-null    float64\n",
      " 31  turnover_pct          672 non-null    float64\n",
      " 32  exp_pts_tot           672 non-null    float64\n",
      "dtypes: float64(7), int64(25), object(1)\n",
      "memory usage: 173.4+ KB\n"
     ]
    }
   ],
   "source": [
    "df = df.dropna(axis=1)\n",
    "df.info()"
   ]
  },
  {
   "cell_type": "markdown",
   "metadata": {},
   "source": [
    "There really isn't much cleaning needed here, all strings are properly formatted, I have removed all null values, and each entry is a seperate team or season so duplicates aren't a problem."
   ]
  },
  {
   "cell_type": "markdown",
   "metadata": {},
   "source": [
    "## Exploratory Data Analysis"
   ]
  },
  {
   "cell_type": "markdown",
   "metadata": {},
   "source": [
    "### 1. Shape"
   ]
  },
  {
   "cell_type": "code",
   "execution_count": 23,
   "metadata": {},
   "outputs": [
    {
     "data": {
      "image/png": "[encoded data removed]",
      "text/plain": [
       "<Figure size 640x480 with 1 Axes>"
      ]
     },
     "metadata": {},
     "output_type": "display_data"
    },
    {
     "data": {
      "image/png": "[encoded data removed]",
      "text/plain": [
       "<Figure size 640x480 with 1 Axes>"
      ]
     },
     "metadata": {},
     "output_type": "display_data"
    },
    {
     "data": {
      "image/png": "[encoded data removed]",
      "text/plain": [
       "<Figure size 640x480 with 1 Axes>"
      ]
     },
     "metadata": {},
     "output_type": "display_data"
    }
   ],
   "source": [
    "# Shape of the Wins Collumn\n",
    "plt.boxplot(df[\"wins\"])\n",
    "plt.title(\"Wins\")\n",
    "plt.xlabel(\"Season\")\n",
    "plt.ylabel(\"Number of wins\")\n",
    "plt.show()\n",
    "\n",
    "# Shape of the Points Collumn\n",
    "plt.boxplot(df[\"points\"])\n",
    "plt.title(\"Points\")\n",
    "plt.xlabel(\"Season\")\n",
    "plt.ylabel(\"Points scored\")\n",
    "plt.show()\n",
    "\n",
    "# Shape of the Points Collumn\n",
    "plt.boxplot(df[\"total_yards\"])\n",
    "plt.title(\"Yards\")\n",
    "plt.xlabel(\"Season\")\n",
    "plt.ylabel(\"Total Yards\")\n",
    "plt.show()"
   ]
  },
  {
   "cell_type": "markdown",
   "metadata": {},
   "source": [
    "The data for points and wins seems to be in order, there are no outliers for the wins collumn, and only a few in the points collumn, but the data is accurate (The 2013 Broncos did score 606 points in one season), no reason to modify the data."
   ]
  },
  {
   "cell_type": "markdown",
   "metadata": {},
   "source": [
    "General distribution data:"
   ]
  },
  {
   "cell_type": "code",
   "execution_count": 20,
   "metadata": {},
   "outputs": [
    {
     "name": "stdout",
     "output_type": "stream",
     "text": [
      "{'mean': 8.050595238095237, 'mode': 0    7\n",
      "Name: wins, dtype: int64, 'median': 8.0, 'max': 16, 'min': 0, 'std': 3.0932549479042892, 'range': 16}\n",
      "{'mean': 358.63392857142856, 'mode': 0    379\n",
      "1    391\n",
      "Name: points, dtype: int64, 'median': 359.0, 'max': 606, 'min': 168, 'std': 72.09205022439534, 'range': 438}\n",
      "{'mean': 5463.895833333333, 'mode': 0     4951\n",
      "1     5035\n",
      "2     5225\n",
      "3     5361\n",
      "4     5423\n",
      "5     5458\n",
      "6     5542\n",
      "7     5618\n",
      "8     5772\n",
      "9     5820\n",
      "10    6145\n",
      "11    6366\n",
      "Name: total_yards, dtype: int64, 'median': 5467.5, 'max': 7474, 'min': 3587, 'std': 628.2094664150584, 'range': 3887}\n"
     ]
    }
   ],
   "source": [
    "# General distribution data for the wins collumn\n",
    "data = {}\n",
    "data[\"mean\"] = df[\"wins\"].mean()\n",
    "data[\"mode\"] = df[\"wins\"].mode()\n",
    "data[\"median\"] = df[\"wins\"].median()\n",
    "data[\"max\"] = df[\"wins\"].max()\n",
    "data[\"min\"] = df[\"wins\"].min()\n",
    "data[\"std\"] = df[\"wins\"].std()\n",
    "data[\"range\"] = df[\"wins\"].max() - df[\"wins\"].min()\n",
    "\n",
    "print(data)\n",
    "\n",
    "data = {}\n",
    "data[\"mean\"] = df[\"points\"].mean()\n",
    "data[\"mode\"] = df[\"points\"].mode()\n",
    "data[\"median\"] = df[\"points\"].median()\n",
    "data[\"max\"] = df[\"points\"].max()\n",
    "data[\"min\"] = df[\"points\"].min()\n",
    "data[\"std\"] = df[\"points\"].std()\n",
    "data[\"range\"] = df[\"points\"].max() - df[\"points\"].min()\n",
    "\n",
    "print(data)\n",
    "\n",
    "data = {}\n",
    "data[\"mean\"] = df[\"total_yards\"].mean()\n",
    "data[\"mode\"] = df[\"total_yards\"].mode()\n",
    "data[\"median\"] = df[\"total_yards\"].median()\n",
    "data[\"max\"] = df[\"total_yards\"].max()\n",
    "data[\"min\"] = df[\"total_yards\"].min()\n",
    "data[\"std\"] = df[\"total_yards\"].std()\n",
    "data[\"range\"] = df[\"total_yards\"].max() - df[\"total_yards\"].min()\n",
    "\n",
    "print(data)"
   ]
  },
  {
   "cell_type": "markdown",
   "metadata": {},
   "source": [
    "# Statistical Analysis"
   ]
  },
  {
   "cell_type": "markdown",
   "metadata": {},
   "source": [
    "## Question 1: Which teams have the most and least wins overall?"
   ]
  },
  {
   "cell_type": "code",
   "execution_count": 10,
   "metadata": {},
   "outputs": [
    {
     "name": "stdout",
     "output_type": "stream",
     "text": [
      "St. Louis Rams\n",
      "76\n",
      "New England Patriots\n",
      "241\n"
     ]
    }
   ],
   "source": [
    "# Finds the total number of wins each team has\n",
    "\n",
    "total_wins = {}\n",
    "\n",
    "def find_wins(name) :\n",
    "    new = df.loc[df[\"team\"] == name]\n",
    "    total_wins[name] = new[\"wins\"].sum()\n",
    "\n",
    "teams_arr = df.loc[df[\"year\"] == 2003]\n",
    "for i in teams_arr[\"team\"] :\n",
    "    find_wins(i)\n",
    "\n",
    "\n",
    "max = \"New England Patriots\"\n",
    "for i in total_wins :\n",
    "    if total_wins[i] > total_wins[max]:\n",
    "        max = i\n",
    "\n",
    "\n",
    "min = \"New England Patriots\"\n",
    "for i in total_wins :\n",
    "    if total_wins[i] < total_wins[max]:\n",
    "        max = i\n",
    "\n",
    "print(max)\n",
    "print(total_wins[max])\n",
    "print(min)\n",
    "print(total_wins[min])\n",
    "\n"
   ]
  },
  {
   "cell_type": "markdown",
   "metadata": {},
   "source": [
    "The team with the most wins since 2003 has been the New England Patriots with 241, and the least successful as been the St. Louis Rams with 76 Wins"
   ]
  },
  {
   "cell_type": "markdown",
   "metadata": {},
   "source": [
    "# Question 2: Which teams have been the most and least successful in points"
   ]
  },
  {
   "cell_type": "code",
   "execution_count": 11,
   "metadata": {},
   "outputs": [
    {
     "name": "stdout",
     "output_type": "stream",
     "text": [
      "St. Louis Rams\n",
      "3899\n",
      "New England Patriots\n",
      "9083\n"
     ]
    }
   ],
   "source": [
    "# Finds the total number of points scored by each team\n",
    "\n",
    "total_points = {}\n",
    "\n",
    "def find_points(name) :\n",
    "    new = df.loc[df[\"team\"] == name]\n",
    "    total_points[name] = new[\"points\"].sum()\n",
    "\n",
    "teams_arr = df.loc[df[\"year\"] == 2003]\n",
    "for i in teams_arr[\"team\"] :\n",
    "    find_points(i)\n",
    "\n",
    "\n",
    "max = \"New England Patriots\"\n",
    "for i in total_points :\n",
    "    if total_points[i] > total_points[max]:\n",
    "        max = i\n",
    "\n",
    "\n",
    "min = \"New England Patriots\"\n",
    "for i in total_wins :\n",
    "    if total_points[i] < total_points[max]:\n",
    "        max = i\n",
    "\n",
    "print(max)\n",
    "print(total_points[max])\n",
    "print(min)\n",
    "print(total_points[min])"
   ]
  },
  {
   "cell_type": "markdown",
   "metadata": {},
   "source": [
    "While it makes some sense that the teams with the most and least wins would be the same as the teams with the most and least points, I found it kind of suprising. The team with the least points was the St. Louis Rams with 3899, and the team with the most points was the Patriots with 9083."
   ]
  },
  {
   "cell_type": "markdown",
   "metadata": {},
   "source": [
    "# Question 3: Which team had the least average yards per touchdown?"
   ]
  },
  {
   "cell_type": "code",
   "execution_count": 16,
   "metadata": {},
   "outputs": [
    {
     "name": "stdout",
     "output_type": "stream",
     "text": [
      "Oakland Raiders\n",
      "942.8695652173913\n",
      "New England Patriots\n",
      "513.6307053941908\n"
     ]
    }
   ],
   "source": [
    "# Finds the total yards and winds of each team and stores them in dictionaries\n",
    "\n",
    "total_wins = {}\n",
    "total_yards = {}\n",
    "\n",
    "def find_wins(name) :\n",
    "    new = df.loc[df[\"team\"] == name]\n",
    "    total_wins[name] = new[\"wins\"].sum()\n",
    "\n",
    "teams_arr = df.loc[df[\"year\"] == 2003]\n",
    "for i in teams_arr[\"team\"] :\n",
    "    find_wins(i)\n",
    "\n",
    "def find_yards(name) :\n",
    "    new = df.loc[df[\"team\"] == name]\n",
    "    total_yards[name] = new[\"total_yards\"].sum()\n",
    "\n",
    "for i in teams_arr[\"team\"] :\n",
    "    find_yards(i)\n",
    "\n",
    "\n",
    "# Divides the two values in order to get the ratio of yards to touchdowns\n",
    "    \n",
    "ratios = {}\n",
    "\n",
    "for i in teams_arr[\"team\"] :\n",
    "    ratios[i] = (total_yards[i] / total_wins[i])\n",
    "\n",
    "min = \"New England Patriots\"\n",
    "max = \"New England Patriots\"\n",
    "\n",
    "for i in ratios:\n",
    "    if ratios[i] < ratios[min] :\n",
    "        min = i\n",
    "    if ratios[i] > ratios[max] :\n",
    "        max = i\n",
    "\n",
    "\n",
    "print(max)\n",
    "print(ratios[max])\n",
    "print(min)\n",
    "print(ratios[min])\n",
    "\n",
    "\n",
    "\n",
    "\n"
   ]
  },
  {
   "cell_type": "markdown",
   "metadata": {},
   "source": [
    "The team with the highest yards : touchdown ratio was the Oakland raiders with around 943 yards per touchdown, and the New England Patriots had the lowest with around 514 yards per touchdown."
   ]
  }
 ],
 "metadata": {
  "kernelspec": {
   "display_name": "Python 3",
   "language": "python",
   "name": "python3"
  },
  "language_info": {
   "codemirror_mode": {
    "name": "ipython",
    "version": 3
   },
   "file_extension": ".py",
   "mimetype": "text/x-python",
   "name": "python",
   "nbconvert_exporter": "python",
   "pygments_lexer": "ipython3",
   "version": "3.9.6"
  },
  "orig_nbformat": 4
 },
 "nbformat": 4,
 "nbformat_minor": 2
}

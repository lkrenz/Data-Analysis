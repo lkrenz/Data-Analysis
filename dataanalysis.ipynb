{
 "cells": [
  {
   "cell_type": "markdown",
   "metadata": {},
   "source": [
    "# Data Analysis"
   ]
  },
  {
   "cell_type": "markdown",
   "metadata": {},
   "source": [
    "### Import Libraries"
   ]
  },
  {
   "cell_type": "code",
   "execution_count": 41,
   "metadata": {},
   "outputs": [],
   "source": [
    "import pandas as pd\n",
    "import matplotlib.pyplot as plt"
   ]
  },
  {
   "cell_type": "markdown",
   "metadata": {},
   "source": [
    "### Load the Dataset"
   ]
  },
  {
   "cell_type": "code",
   "execution_count": 2,
   "metadata": {},
   "outputs": [],
   "source": [
    "df = pd.read_csv(\"data/team_stats_2003_2023.csv\")"
   ]
  },
  {
   "cell_type": "markdown",
   "metadata": {},
   "source": [
    "## Data Exploration"
   ]
  },
  {
   "cell_type": "markdown",
   "metadata": {},
   "source": [
    "1. Structure of the data set"
   ]
  },
  {
   "cell_type": "code",
   "execution_count": 4,
   "metadata": {},
   "outputs": [
    {
     "data": {
      "text/html": [
       "<div>\n",
       "<style scoped>\n",
       "    .dataframe tbody tr th:only-of-type {\n",
       "        vertical-align: middle;\n",
       "    }\n",
       "\n",
       "    .dataframe tbody tr th {\n",
       "        vertical-align: top;\n",
       "    }\n",
       "\n",
       "    .dataframe thead th {\n",
       "        text-align: right;\n",
       "    }\n",
       "</style>\n",
       "<table border=\"1\" class=\"dataframe\">\n",
       "  <thead>\n",
       "    <tr style=\"text-align: right;\">\n",
       "      <th></th>\n",
       "      <th>year</th>\n",
       "      <th>team</th>\n",
       "      <th>wins</th>\n",
       "      <th>losses</th>\n",
       "      <th>win_loss_perc</th>\n",
       "      <th>points</th>\n",
       "      <th>points_opp</th>\n",
       "      <th>points_diff</th>\n",
       "      <th>mov</th>\n",
       "      <th>g</th>\n",
       "      <th>...</th>\n",
       "      <th>rush_td</th>\n",
       "      <th>rush_yds_per_att</th>\n",
       "      <th>rush_fd</th>\n",
       "      <th>penalties</th>\n",
       "      <th>penalties_yds</th>\n",
       "      <th>pen_fd</th>\n",
       "      <th>score_pct</th>\n",
       "      <th>turnover_pct</th>\n",
       "      <th>exp_pts_tot</th>\n",
       "      <th>ties</th>\n",
       "    </tr>\n",
       "  </thead>\n",
       "  <tbody>\n",
       "    <tr>\n",
       "      <th>0</th>\n",
       "      <td>2003</td>\n",
       "      <td>New England Patriots</td>\n",
       "      <td>14</td>\n",
       "      <td>2</td>\n",
       "      <td>0.875</td>\n",
       "      <td>348</td>\n",
       "      <td>238</td>\n",
       "      <td>110</td>\n",
       "      <td>6.9</td>\n",
       "      <td>16</td>\n",
       "      <td>...</td>\n",
       "      <td>9</td>\n",
       "      <td>3.4</td>\n",
       "      <td>91</td>\n",
       "      <td>111</td>\n",
       "      <td>998</td>\n",
       "      <td>26</td>\n",
       "      <td>27.9</td>\n",
       "      <td>11.3</td>\n",
       "      <td>-136.51</td>\n",
       "      <td>NaN</td>\n",
       "    </tr>\n",
       "    <tr>\n",
       "      <th>1</th>\n",
       "      <td>2003</td>\n",
       "      <td>Miami Dolphins</td>\n",
       "      <td>10</td>\n",
       "      <td>6</td>\n",
       "      <td>0.625</td>\n",
       "      <td>311</td>\n",
       "      <td>261</td>\n",
       "      <td>50</td>\n",
       "      <td>3.1</td>\n",
       "      <td>16</td>\n",
       "      <td>...</td>\n",
       "      <td>14</td>\n",
       "      <td>3.7</td>\n",
       "      <td>99</td>\n",
       "      <td>103</td>\n",
       "      <td>913</td>\n",
       "      <td>22</td>\n",
       "      <td>28.1</td>\n",
       "      <td>17.2</td>\n",
       "      <td>-177.92</td>\n",
       "      <td>NaN</td>\n",
       "    </tr>\n",
       "    <tr>\n",
       "      <th>2</th>\n",
       "      <td>2003</td>\n",
       "      <td>Buffalo Bills</td>\n",
       "      <td>6</td>\n",
       "      <td>10</td>\n",
       "      <td>0.375</td>\n",
       "      <td>243</td>\n",
       "      <td>279</td>\n",
       "      <td>-36</td>\n",
       "      <td>-2.3</td>\n",
       "      <td>16</td>\n",
       "      <td>...</td>\n",
       "      <td>13</td>\n",
       "      <td>3.9</td>\n",
       "      <td>96</td>\n",
       "      <td>106</td>\n",
       "      <td>891</td>\n",
       "      <td>22</td>\n",
       "      <td>21.9</td>\n",
       "      <td>17.6</td>\n",
       "      <td>-230.07</td>\n",
       "      <td>NaN</td>\n",
       "    </tr>\n",
       "    <tr>\n",
       "      <th>3</th>\n",
       "      <td>2003</td>\n",
       "      <td>New York Jets</td>\n",
       "      <td>6</td>\n",
       "      <td>10</td>\n",
       "      <td>0.375</td>\n",
       "      <td>283</td>\n",
       "      <td>299</td>\n",
       "      <td>-16</td>\n",
       "      <td>-1.0</td>\n",
       "      <td>16</td>\n",
       "      <td>...</td>\n",
       "      <td>8</td>\n",
       "      <td>4.0</td>\n",
       "      <td>78</td>\n",
       "      <td>69</td>\n",
       "      <td>550</td>\n",
       "      <td>15</td>\n",
       "      <td>32.4</td>\n",
       "      <td>11.8</td>\n",
       "      <td>-107.89</td>\n",
       "      <td>NaN</td>\n",
       "    </tr>\n",
       "    <tr>\n",
       "      <th>4</th>\n",
       "      <td>2003</td>\n",
       "      <td>Baltimore Ravens</td>\n",
       "      <td>10</td>\n",
       "      <td>6</td>\n",
       "      <td>0.625</td>\n",
       "      <td>391</td>\n",
       "      <td>281</td>\n",
       "      <td>110</td>\n",
       "      <td>6.9</td>\n",
       "      <td>16</td>\n",
       "      <td>...</td>\n",
       "      <td>18</td>\n",
       "      <td>4.8</td>\n",
       "      <td>115</td>\n",
       "      <td>126</td>\n",
       "      <td>970</td>\n",
       "      <td>23</td>\n",
       "      <td>31.8</td>\n",
       "      <td>16.6</td>\n",
       "      <td>-220.50</td>\n",
       "      <td>NaN</td>\n",
       "    </tr>\n",
       "    <tr>\n",
       "      <th>5</th>\n",
       "      <td>2003</td>\n",
       "      <td>Cincinnati Bengals</td>\n",
       "      <td>8</td>\n",
       "      <td>8</td>\n",
       "      <td>0.500</td>\n",
       "      <td>346</td>\n",
       "      <td>384</td>\n",
       "      <td>-38</td>\n",
       "      <td>-2.4</td>\n",
       "      <td>16</td>\n",
       "      <td>...</td>\n",
       "      <td>12</td>\n",
       "      <td>4.1</td>\n",
       "      <td>101</td>\n",
       "      <td>107</td>\n",
       "      <td>846</td>\n",
       "      <td>31</td>\n",
       "      <td>33.3</td>\n",
       "      <td>11.1</td>\n",
       "      <td>-78.22</td>\n",
       "      <td>NaN</td>\n",
       "    </tr>\n",
       "    <tr>\n",
       "      <th>6</th>\n",
       "      <td>2003</td>\n",
       "      <td>Pittsburgh Steelers</td>\n",
       "      <td>6</td>\n",
       "      <td>10</td>\n",
       "      <td>0.375</td>\n",
       "      <td>300</td>\n",
       "      <td>327</td>\n",
       "      <td>-27</td>\n",
       "      <td>-1.7</td>\n",
       "      <td>16</td>\n",
       "      <td>...</td>\n",
       "      <td>10</td>\n",
       "      <td>3.3</td>\n",
       "      <td>77</td>\n",
       "      <td>111</td>\n",
       "      <td>1005</td>\n",
       "      <td>24</td>\n",
       "      <td>27.1</td>\n",
       "      <td>13.5</td>\n",
       "      <td>-166.93</td>\n",
       "      <td>NaN</td>\n",
       "    </tr>\n",
       "    <tr>\n",
       "      <th>7</th>\n",
       "      <td>2003</td>\n",
       "      <td>Cleveland Browns</td>\n",
       "      <td>5</td>\n",
       "      <td>11</td>\n",
       "      <td>0.313</td>\n",
       "      <td>254</td>\n",
       "      <td>322</td>\n",
       "      <td>-68</td>\n",
       "      <td>-4.3</td>\n",
       "      <td>16</td>\n",
       "      <td>...</td>\n",
       "      <td>8</td>\n",
       "      <td>4.1</td>\n",
       "      <td>91</td>\n",
       "      <td>98</td>\n",
       "      <td>767</td>\n",
       "      <td>32</td>\n",
       "      <td>26.7</td>\n",
       "      <td>17.2</td>\n",
       "      <td>-191.88</td>\n",
       "      <td>NaN</td>\n",
       "    </tr>\n",
       "    <tr>\n",
       "      <th>8</th>\n",
       "      <td>2003</td>\n",
       "      <td>Indianapolis Colts</td>\n",
       "      <td>12</td>\n",
       "      <td>4</td>\n",
       "      <td>0.750</td>\n",
       "      <td>447</td>\n",
       "      <td>336</td>\n",
       "      <td>111</td>\n",
       "      <td>6.9</td>\n",
       "      <td>16</td>\n",
       "      <td>...</td>\n",
       "      <td>16</td>\n",
       "      <td>3.7</td>\n",
       "      <td>104</td>\n",
       "      <td>92</td>\n",
       "      <td>662</td>\n",
       "      <td>32</td>\n",
       "      <td>46.3</td>\n",
       "      <td>10.2</td>\n",
       "      <td>-13.96</td>\n",
       "      <td>NaN</td>\n",
       "    </tr>\n",
       "    <tr>\n",
       "      <th>9</th>\n",
       "      <td>2003</td>\n",
       "      <td>Tennessee Titans</td>\n",
       "      <td>12</td>\n",
       "      <td>4</td>\n",
       "      <td>0.750</td>\n",
       "      <td>435</td>\n",
       "      <td>324</td>\n",
       "      <td>111</td>\n",
       "      <td>6.9</td>\n",
       "      <td>16</td>\n",
       "      <td>...</td>\n",
       "      <td>11</td>\n",
       "      <td>3.3</td>\n",
       "      <td>84</td>\n",
       "      <td>110</td>\n",
       "      <td>887</td>\n",
       "      <td>15</td>\n",
       "      <td>39.4</td>\n",
       "      <td>9.6</td>\n",
       "      <td>-103.79</td>\n",
       "      <td>NaN</td>\n",
       "    </tr>\n",
       "  </tbody>\n",
       "</table>\n",
       "<p>10 rows × 35 columns</p>\n",
       "</div>"
      ],
      "text/plain": [
       "   year                  team  wins  losses  win_loss_perc  points  \\\n",
       "0  2003  New England Patriots    14       2          0.875     348   \n",
       "1  2003        Miami Dolphins    10       6          0.625     311   \n",
       "2  2003         Buffalo Bills     6      10          0.375     243   \n",
       "3  2003         New York Jets     6      10          0.375     283   \n",
       "4  2003      Baltimore Ravens    10       6          0.625     391   \n",
       "5  2003    Cincinnati Bengals     8       8          0.500     346   \n",
       "6  2003   Pittsburgh Steelers     6      10          0.375     300   \n",
       "7  2003      Cleveland Browns     5      11          0.313     254   \n",
       "8  2003    Indianapolis Colts    12       4          0.750     447   \n",
       "9  2003      Tennessee Titans    12       4          0.750     435   \n",
       "\n",
       "   points_opp  points_diff  mov   g  ...  rush_td  rush_yds_per_att  rush_fd  \\\n",
       "0         238          110  6.9  16  ...        9               3.4       91   \n",
       "1         261           50  3.1  16  ...       14               3.7       99   \n",
       "2         279          -36 -2.3  16  ...       13               3.9       96   \n",
       "3         299          -16 -1.0  16  ...        8               4.0       78   \n",
       "4         281          110  6.9  16  ...       18               4.8      115   \n",
       "5         384          -38 -2.4  16  ...       12               4.1      101   \n",
       "6         327          -27 -1.7  16  ...       10               3.3       77   \n",
       "7         322          -68 -4.3  16  ...        8               4.1       91   \n",
       "8         336          111  6.9  16  ...       16               3.7      104   \n",
       "9         324          111  6.9  16  ...       11               3.3       84   \n",
       "\n",
       "   penalties  penalties_yds  pen_fd  score_pct  turnover_pct  exp_pts_tot  \\\n",
       "0        111            998      26       27.9          11.3      -136.51   \n",
       "1        103            913      22       28.1          17.2      -177.92   \n",
       "2        106            891      22       21.9          17.6      -230.07   \n",
       "3         69            550      15       32.4          11.8      -107.89   \n",
       "4        126            970      23       31.8          16.6      -220.50   \n",
       "5        107            846      31       33.3          11.1       -78.22   \n",
       "6        111           1005      24       27.1          13.5      -166.93   \n",
       "7         98            767      32       26.7          17.2      -191.88   \n",
       "8         92            662      32       46.3          10.2       -13.96   \n",
       "9        110            887      15       39.4           9.6      -103.79   \n",
       "\n",
       "   ties  \n",
       "0   NaN  \n",
       "1   NaN  \n",
       "2   NaN  \n",
       "3   NaN  \n",
       "4   NaN  \n",
       "5   NaN  \n",
       "6   NaN  \n",
       "7   NaN  \n",
       "8   NaN  \n",
       "9   NaN  \n",
       "\n",
       "[10 rows x 35 columns]"
      ]
     },
     "execution_count": 4,
     "metadata": {},
     "output_type": "execute_result"
    }
   ],
   "source": [
    "df.shape\n",
    "\n",
    "df.head(10)"
   ]
  },
  {
   "cell_type": "markdown",
   "metadata": {},
   "source": [
    "2. Check for Null Values"
   ]
  },
  {
   "cell_type": "code",
   "execution_count": 5,
   "metadata": {},
   "outputs": [
    {
     "data": {
      "text/plain": [
       "year                      0\n",
       "team                      0\n",
       "wins                      0\n",
       "losses                    0\n",
       "win_loss_perc             0\n",
       "points                    0\n",
       "points_opp                0\n",
       "points_diff               0\n",
       "mov                     320\n",
       "g                         0\n",
       "total_yards               0\n",
       "plays_offense             0\n",
       "yds_per_play_offense      0\n",
       "turnovers                 0\n",
       "fumbles_lost              0\n",
       "first_down                0\n",
       "pass_cmp                  0\n",
       "pass_att                  0\n",
       "pass_yds                  0\n",
       "pass_td                   0\n",
       "pass_int                  0\n",
       "pass_net_yds_per_att      0\n",
       "pass_fd                   0\n",
       "rush_att                  0\n",
       "rush_yds                  0\n",
       "rush_td                   0\n",
       "rush_yds_per_att          0\n",
       "rush_fd                   0\n",
       "penalties                 0\n",
       "penalties_yds             0\n",
       "pen_fd                    0\n",
       "score_pct                 0\n",
       "turnover_pct              0\n",
       "exp_pts_tot               0\n",
       "ties                    352\n",
       "dtype: int64"
      ]
     },
     "execution_count": 5,
     "metadata": {},
     "output_type": "execute_result"
    }
   ],
   "source": [
    "df.isna().sum()"
   ]
  },
  {
   "cell_type": "markdown",
   "metadata": {},
   "source": [
    "## Data Cleaning"
   ]
  },
  {
   "cell_type": "markdown",
   "metadata": {},
   "source": [
    "It seems like only have two columns with null values, mov, and ties. As I don't intend to use data from either of these columns, I will drop them."
   ]
  },
  {
   "cell_type": "code",
   "execution_count": 11,
   "metadata": {},
   "outputs": [
    {
     "name": "stdout",
     "output_type": "stream",
     "text": [
      "<class 'pandas.core.frame.DataFrame'>\n",
      "RangeIndex: 672 entries, 0 to 671\n",
      "Data columns (total 33 columns):\n",
      " #   Column                Non-Null Count  Dtype  \n",
      "---  ------                --------------  -----  \n",
      " 0   year                  672 non-null    int64  \n",
      " 1   team                  672 non-null    object \n",
      " 2   wins                  672 non-null    int64  \n",
      " 3   losses                672 non-null    int64  \n",
      " 4   win_loss_perc         672 non-null    float64\n",
      " 5   points                672 non-null    int64  \n",
      " 6   points_opp            672 non-null    int64  \n",
      " 7   points_diff           672 non-null    int64  \n",
      " 8   g                     672 non-null    int64  \n",
      " 9   total_yards           672 non-null    int64  \n",
      " 10  plays_offense         672 non-null    int64  \n",
      " 11  yds_per_play_offense  672 non-null    float64\n",
      " 12  turnovers             672 non-null    int64  \n",
      " 13  fumbles_lost          672 non-null    int64  \n",
      " 14  first_down            672 non-null    int64  \n",
      " 15  pass_cmp              672 non-null    int64  \n",
      " 16  pass_att              672 non-null    int64  \n",
      " 17  pass_yds              672 non-null    int64  \n",
      " 18  pass_td               672 non-null    int64  \n",
      " 19  pass_int              672 non-null    int64  \n",
      " 20  pass_net_yds_per_att  672 non-null    float64\n",
      " 21  pass_fd               672 non-null    int64  \n",
      " 22  rush_att              672 non-null    int64  \n",
      " 23  rush_yds              672 non-null    int64  \n",
      " 24  rush_td               672 non-null    int64  \n",
      " 25  rush_yds_per_att      672 non-null    float64\n",
      " 26  rush_fd               672 non-null    int64  \n",
      " 27  penalties             672 non-null    int64  \n",
      " 28  penalties_yds         672 non-null    int64  \n",
      " 29  pen_fd                672 non-null    int64  \n",
      " 30  score_pct             672 non-null    float64\n",
      " 31  turnover_pct          672 non-null    float64\n",
      " 32  exp_pts_tot           672 non-null    float64\n",
      "dtypes: float64(7), int64(25), object(1)\n",
      "memory usage: 173.4+ KB\n"
     ]
    }
   ],
   "source": [
    "df = df.dropna(axis=1)\n",
    "df.info()"
   ]
  },
  {
   "cell_type": "markdown",
   "metadata": {},
   "source": [
    "There really isn't much cleaning needed here, all strings are properly formatted, I have removed all null values, and each entry is a seperate team or season so duplicates aren't a problem."
   ]
  },
  {
   "cell_type": "markdown",
   "metadata": {},
   "source": [
    "## Exploratory Data Analysis"
   ]
  },
  {
   "cell_type": "markdown",
   "metadata": {},
   "source": [
    "### 1. Shape"
   ]
  },
  {
   "cell_type": "code",
   "execution_count": 44,
   "metadata": {},
   "outputs": [
    {
     "data": {
      "image/png": "[encoded data removed]",
      "text/plain": [
       "<Figure size 640x480 with 1 Axes>"
      ]
     },
     "metadata": {},
     "output_type": "display_data"
    },
    {
     "data": {
      "image/png": "[encoded data removed]",
      "text/plain": [
       "<Figure size 640x480 with 1 Axes>"
      ]
     },
     "metadata": {},
     "output_type": "display_data"
    }
   ],
   "source": [
    "# Shape of the Wins Collumn\n",
    "plt.boxplot(df[\"wins\"])\n",
    "plt.title(\"Wins\")\n",
    "plt.xlabel(\"Season\")\n",
    "plt.ylabel(\"Number of wins\")\n",
    "plt.show()\n",
    "\n",
    "# Shape of the Points Collumn\n",
    "plt.boxplot(df[\"points\"])\n",
    "plt.title(\"Points\")\n",
    "plt.xlabel(\"Season\")\n",
    "plt.ylabel(\"Points scored\")\n",
    "plt.show()"
   ]
  },
  {
   "cell_type": "markdown",
   "metadata": {},
   "source": [
    "The data for points and wins seems to be in order, there are no outliers for the wins collumn, and only a few in the points collumn, but the data is accurate (The 2013 Broncos did score 606 points in one season), no reason to modify the data."
   ]
  },
  {
   "cell_type": "markdown",
   "metadata": {},
   "source": [
    "## Wins"
   ]
  },
  {
   "cell_type": "code",
   "execution_count": 54,
   "metadata": {},
   "outputs": [
    {
     "name": "stdout",
     "output_type": "stream",
     "text": [
      "{'mean': 8.050595238095237, 'mode': 0    7\n",
      "Name: wins, dtype: int64, 'median': 8.0, 'max': 16, 'min': 0, 'std': 3.0932549479042892, 'range': 16}\n"
     ]
    }
   ],
   "source": [
    "# General distribution data for the wins collumn\n",
    "data = {}\n",
    "data[\"mean\"] = df[\"wins\"].mean()\n",
    "data[\"mode\"] = df[\"wins\"].mode()\n",
    "data[\"median\"] = df[\"wins\"].median()\n",
    "data[\"max\"] = df[\"wins\"].max()\n",
    "data[\"min\"] = df[\"wins\"].min()\n",
    "data[\"std\"] = df[\"wins\"].std()\n",
    "data[\"range\"] = df[\"wins\"].max() - df[\"wins\"].min()\n",
    "\n",
    "print(data)\n",
    "\n"
   ]
  },
  {
   "cell_type": "markdown",
   "metadata": {},
   "source": [
    "# Statistical Analysis"
   ]
  },
  {
   "cell_type": "markdown",
   "metadata": {},
   "source": [
    "## Question 1: Which teams have the most and least wins overall?"
   ]
  },
  {
   "cell_type": "code",
   "execution_count": null,
   "metadata": {},
   "outputs": [],
   "source": []
  },
  {
   "cell_type": "code",
   "execution_count": 62,
   "metadata": {},
   "outputs": [
    {
     "name": "stdout",
     "output_type": "stream",
     "text": [
      "St. Louis Rams\n",
      "76\n",
      "New England Patriots\n",
      "241\n"
     ]
    }
   ],
   "source": [
    "total_wins = {}\n",
    "\n",
    "def find_wins(name) :\n",
    "    new = df.loc[df[\"team\"] == name]\n",
    "    total_wins[name] = new[\"wins\"].sum()\n",
    "\n",
    "teams_arr = df.loc[df[\"year\"] == 2003]\n",
    "for i in teams_arr[\"team\"] :\n",
    "    find_wins(i)\n",
    "\n",
    "\n",
    "max = \"New England Patriots\"\n",
    "for i in total_wins :\n",
    "    if total_wins[i] > total_wins[max]:\n",
    "        max = i\n",
    "\n",
    "\n",
    "min = \"New England Patriots\"\n",
    "for i in total_wins :\n",
    "    if total_wins[i] < total_wins[max]:\n",
    "        max = i\n",
    "\n",
    "print(max)\n",
    "print(total_wins[max])\n",
    "print(min)\n",
    "print(total_wins[min])\n",
    "\n"
   ]
  },
  {
   "cell_type": "markdown",
   "metadata": {},
   "source": [
    "The team with the most wins since 2003 has been the New England Patriots with 241, and the least successful as been the St. Louis Rams with 76 Wins"
   ]
  },
  {
   "cell_type": "markdown",
   "metadata": {},
   "source": [
    "# Question 2: Which teams have been the most and least successful in points"
   ]
  },
  {
   "cell_type": "code",
   "execution_count": 63,
   "metadata": {},
   "outputs": [
    {
     "name": "stdout",
     "output_type": "stream",
     "text": [
      "St. Louis Rams\n",
      "3899\n",
      "New England Patriots\n",
      "9083\n"
     ]
    }
   ],
   "source": [
    "total_points = {}\n",
    "\n",
    "def find_points(name) :\n",
    "    new = df.loc[df[\"team\"] == name]\n",
    "    total_points[name] = new[\"points\"].sum()\n",
    "\n",
    "teams_arr = df.loc[df[\"year\"] == 2003]\n",
    "for i in teams_arr[\"team\"] :\n",
    "    find_points(i)\n",
    "\n",
    "\n",
    "max = \"New England Patriots\"\n",
    "for i in total_points :\n",
    "    if total_points[i] > total_points[max]:\n",
    "        max = i\n",
    "\n",
    "\n",
    "min = \"New England Patriots\"\n",
    "for i in total_wins :\n",
    "    if total_points[i] < total_points[max]:\n",
    "        max = i\n",
    "\n",
    "print(max)\n",
    "print(total_points[max])\n",
    "print(min)\n",
    "print(total_points[min])"
   ]
  },
  {
   "cell_type": "markdown",
   "metadata": {},
   "source": [
    "While it makes some sense that the teams with the most and least wins would be the same as the teams with the most and least points, I found it kind of suprising. The team with the least points was the St. Louis Rams with 3899, and the team with the most points was the Patriots with 9083."
   ]
  },
  {
   "cell_type": "markdown",
   "metadata": {},
   "source": [
    "# Question 3: Which "
   ]
  }
 ],
 "metadata": {
  "kernelspec": {
   "display_name": "Python 3",
   "language": "python",
   "name": "python3"
  },
  "language_info": {
   "codemirror_mode": {
    "name": "ipython",
    "version": 3
   },
   "file_extension": ".py",
   "mimetype": "text/x-python",
   "name": "python",
   "nbconvert_exporter": "python",
   "pygments_lexer": "ipython3",
   "version": "3.9.6"
  },
  "orig_nbformat": 4
 },
 "nbformat": 4,
 "nbformat_minor": 2
}
